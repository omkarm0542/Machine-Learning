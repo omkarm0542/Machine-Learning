{
 "cells": [
  {
   "cell_type": "code",
   "execution_count": 1,
   "id": "38f124d9",
   "metadata": {
    "_cell_guid": "b1076dfc-b9ad-4769-8c92-a6c4dae69d19",
    "_uuid": "8f2839f25d086af736a60e9eeb907d3b93b6e0e5",
    "execution": {
     "iopub.execute_input": "2023-04-15T05:47:14.652406Z",
     "iopub.status.busy": "2023-04-15T05:47:14.650982Z",
     "iopub.status.idle": "2023-04-15T05:47:14.675690Z",
     "shell.execute_reply": "2023-04-15T05:47:14.674070Z"
    },
    "papermill": {
     "duration": 0.038026,
     "end_time": "2023-04-15T05:47:14.678798",
     "exception": false,
     "start_time": "2023-04-15T05:47:14.640772",
     "status": "completed"
    },
    "tags": []
   },
   "outputs": [
    {
     "name": "stdout",
     "output_type": "stream",
     "text": [
      "/kaggle/input/train-dataset/train.csv\n"
     ]
    }
   ],
   "source": [
    "# This Python 3 environment comes with many helpful analytics libraries installed\n",
    "# It is defined by the kaggle/python Docker image: https://github.com/kaggle/docker-python\n",
    "# For example, here's several helpful packages to load\n",
    "\n",
    "import numpy as np # linear algebra\n",
    "import pandas as pd # data processing, CSV file I/O (e.g. pd.read_csv)\n",
    "\n",
    "# Input data files are available in the read-only \"../input/\" directory\n",
    "# For example, running this (by clicking run or pressing Shift+Enter) will list all files under the input directory\n",
    "\n",
    "import os\n",
    "for dirname, _, filenames in os.walk('/kaggle/input'):\n",
    "    for filename in filenames:\n",
    "        print(os.path.join(dirname, filename))\n",
    "\n",
    "# You can write up to 20GB to the current directory (/kaggle/working/) that gets preserved as output when you create a version using \"Save & Run All\" \n",
    "# You can also write temporary files to /kaggle/temp/, but they won't be saved outside of the current session"
   ]
  },
  {
   "cell_type": "code",
   "execution_count": 2,
   "id": "c8c9bbe3",
   "metadata": {
    "execution": {
     "iopub.execute_input": "2023-04-15T05:47:14.696094Z",
     "iopub.status.busy": "2023-04-15T05:47:14.695666Z",
     "iopub.status.idle": "2023-04-15T05:47:14.704670Z",
     "shell.execute_reply": "2023-04-15T05:47:14.703407Z"
    },
    "papermill": {
     "duration": 0.021302,
     "end_time": "2023-04-15T05:47:14.707711",
     "exception": false,
     "start_time": "2023-04-15T05:47:14.686409",
     "status": "completed"
    },
    "tags": []
   },
   "outputs": [],
   "source": [
    "# Import pandas to create DataFrame \n",
    "import pandas as pd \n",
    "  \n",
    "# Make DataFrame of the given data \n",
    "data = pd.DataFrame({\"A\":[1,2,4,1,2,4], \n",
    "                    \"B\":[4,5,6,7,8,9], \n",
    "                    \"C\":[0,0,0,0,0,0],\n",
    "                    \"D\":[1,1,1,1,1,1]}) "
   ]
  },
  {
   "cell_type": "code",
   "execution_count": 3,
   "id": "4acdc98f",
   "metadata": {
    "execution": {
     "iopub.execute_input": "2023-04-15T05:47:14.723766Z",
     "iopub.status.busy": "2023-04-15T05:47:14.723333Z",
     "iopub.status.idle": "2023-04-15T05:47:14.753076Z",
     "shell.execute_reply": "2023-04-15T05:47:14.751700Z"
    },
    "papermill": {
     "duration": 0.041615,
     "end_time": "2023-04-15T05:47:14.756269",
     "exception": false,
     "start_time": "2023-04-15T05:47:14.714654",
     "status": "completed"
    },
    "tags": []
   },
   "outputs": [
    {
     "data": {
      "text/html": [
       "<div>\n",
       "<style scoped>\n",
       "    .dataframe tbody tr th:only-of-type {\n",
       "        vertical-align: middle;\n",
       "    }\n",
       "\n",
       "    .dataframe tbody tr th {\n",
       "        vertical-align: top;\n",
       "    }\n",
       "\n",
       "    .dataframe thead th {\n",
       "        text-align: right;\n",
       "    }\n",
       "</style>\n",
       "<table border=\"1\" class=\"dataframe\">\n",
       "  <thead>\n",
       "    <tr style=\"text-align: right;\">\n",
       "      <th></th>\n",
       "      <th>A</th>\n",
       "      <th>B</th>\n",
       "      <th>C</th>\n",
       "      <th>D</th>\n",
       "    </tr>\n",
       "  </thead>\n",
       "  <tbody>\n",
       "    <tr>\n",
       "      <th>0</th>\n",
       "      <td>1</td>\n",
       "      <td>4</td>\n",
       "      <td>0</td>\n",
       "      <td>1</td>\n",
       "    </tr>\n",
       "    <tr>\n",
       "      <th>1</th>\n",
       "      <td>2</td>\n",
       "      <td>5</td>\n",
       "      <td>0</td>\n",
       "      <td>1</td>\n",
       "    </tr>\n",
       "    <tr>\n",
       "      <th>2</th>\n",
       "      <td>4</td>\n",
       "      <td>6</td>\n",
       "      <td>0</td>\n",
       "      <td>1</td>\n",
       "    </tr>\n",
       "    <tr>\n",
       "      <th>3</th>\n",
       "      <td>1</td>\n",
       "      <td>7</td>\n",
       "      <td>0</td>\n",
       "      <td>1</td>\n",
       "    </tr>\n",
       "    <tr>\n",
       "      <th>4</th>\n",
       "      <td>2</td>\n",
       "      <td>8</td>\n",
       "      <td>0</td>\n",
       "      <td>1</td>\n",
       "    </tr>\n",
       "  </tbody>\n",
       "</table>\n",
       "</div>"
      ],
      "text/plain": [
       "   A  B  C  D\n",
       "0  1  4  0  1\n",
       "1  2  5  0  1\n",
       "2  4  6  0  1\n",
       "3  1  7  0  1\n",
       "4  2  8  0  1"
      ]
     },
     "execution_count": 3,
     "metadata": {},
     "output_type": "execute_result"
    }
   ],
   "source": [
    "data.head()"
   ]
  },
  {
   "cell_type": "markdown",
   "id": "1d7cb2b3",
   "metadata": {
    "papermill": {
     "duration": 0.006555,
     "end_time": "2023-04-15T05:47:14.769993",
     "exception": false,
     "start_time": "2023-04-15T05:47:14.763438",
     "status": "completed"
    },
    "tags": []
   },
   "source": [
    "Variance Threshold\n",
    "Feature selector that removes all low-variance features.\n",
    "\n",
    "This feature selection algorithm looks only at the features (X), not the desired outputs (y), and can thus be used for unsupervised learning."
   ]
  },
  {
   "cell_type": "code",
   "execution_count": 4,
   "id": "ca3e9dbc",
   "metadata": {
    "execution": {
     "iopub.execute_input": "2023-04-15T05:47:14.786464Z",
     "iopub.status.busy": "2023-04-15T05:47:14.786032Z",
     "iopub.status.idle": "2023-04-15T05:47:16.315340Z",
     "shell.execute_reply": "2023-04-15T05:47:16.314338Z"
    },
    "papermill": {
     "duration": 1.54077,
     "end_time": "2023-04-15T05:47:16.317919",
     "exception": false,
     "start_time": "2023-04-15T05:47:14.777149",
     "status": "completed"
    },
    "tags": []
   },
   "outputs": [
    {
     "data": {
      "text/plain": [
       "VarianceThreshold(threshold=0)"
      ]
     },
     "execution_count": 4,
     "metadata": {},
     "output_type": "execute_result"
    }
   ],
   "source": [
    "from sklearn.feature_selection import VarianceThreshold\n",
    "var_thres = VarianceThreshold(threshold = 0)\n",
    "var_thres.fit(data)"
   ]
  },
  {
   "cell_type": "code",
   "execution_count": 5,
   "id": "4bbbe948",
   "metadata": {
    "execution": {
     "iopub.execute_input": "2023-04-15T05:47:16.334891Z",
     "iopub.status.busy": "2023-04-15T05:47:16.333716Z",
     "iopub.status.idle": "2023-04-15T05:47:16.342455Z",
     "shell.execute_reply": "2023-04-15T05:47:16.341088Z"
    },
    "papermill": {
     "duration": 0.020083,
     "end_time": "2023-04-15T05:47:16.345235",
     "exception": false,
     "start_time": "2023-04-15T05:47:16.325152",
     "status": "completed"
    },
    "tags": []
   },
   "outputs": [
    {
     "data": {
      "text/plain": [
       "array([ True,  True, False, False])"
      ]
     },
     "execution_count": 5,
     "metadata": {},
     "output_type": "execute_result"
    }
   ],
   "source": [
    "var_thres.get_support()"
   ]
  },
  {
   "cell_type": "code",
   "execution_count": 6,
   "id": "24eb494a",
   "metadata": {
    "execution": {
     "iopub.execute_input": "2023-04-15T05:47:16.361988Z",
     "iopub.status.busy": "2023-04-15T05:47:16.361175Z",
     "iopub.status.idle": "2023-04-15T05:47:16.369820Z",
     "shell.execute_reply": "2023-04-15T05:47:16.368394Z"
    },
    "papermill": {
     "duration": 0.0202,
     "end_time": "2023-04-15T05:47:16.372606",
     "exception": false,
     "start_time": "2023-04-15T05:47:16.352406",
     "status": "completed"
    },
    "tags": []
   },
   "outputs": [
    {
     "data": {
      "text/plain": [
       "Index(['A', 'B'], dtype='object')"
      ]
     },
     "execution_count": 6,
     "metadata": {},
     "output_type": "execute_result"
    }
   ],
   "source": [
    "data.columns[var_thres.get_support()]"
   ]
  },
  {
   "cell_type": "code",
   "execution_count": 7,
   "id": "6712e320",
   "metadata": {
    "execution": {
     "iopub.execute_input": "2023-04-15T05:47:16.390138Z",
     "iopub.status.busy": "2023-04-15T05:47:16.389710Z",
     "iopub.status.idle": "2023-04-15T05:47:16.399027Z",
     "shell.execute_reply": "2023-04-15T05:47:16.397518Z"
    },
    "papermill": {
     "duration": 0.022027,
     "end_time": "2023-04-15T05:47:16.401898",
     "exception": false,
     "start_time": "2023-04-15T05:47:16.379871",
     "status": "completed"
    },
    "tags": []
   },
   "outputs": [],
   "source": [
    "constant_columns = [column for column in data.columns\n",
    "                   if column not in data.columns[var_thres.get_support()]]"
   ]
  },
  {
   "cell_type": "code",
   "execution_count": 8,
   "id": "aca3b9c7",
   "metadata": {
    "execution": {
     "iopub.execute_input": "2023-04-15T05:47:16.419746Z",
     "iopub.status.busy": "2023-04-15T05:47:16.419301Z",
     "iopub.status.idle": "2023-04-15T05:47:16.426140Z",
     "shell.execute_reply": "2023-04-15T05:47:16.424600Z"
    },
    "papermill": {
     "duration": 0.019756,
     "end_time": "2023-04-15T05:47:16.429075",
     "exception": false,
     "start_time": "2023-04-15T05:47:16.409319",
     "status": "completed"
    },
    "tags": []
   },
   "outputs": [
    {
     "name": "stdout",
     "output_type": "stream",
     "text": [
      "2\n"
     ]
    }
   ],
   "source": [
    "print(len(constant_columns))\n",
    "  "
   ]
  },
  {
   "cell_type": "code",
   "execution_count": 9,
   "id": "98ad3dd0",
   "metadata": {
    "execution": {
     "iopub.execute_input": "2023-04-15T05:47:16.446632Z",
     "iopub.status.busy": "2023-04-15T05:47:16.445613Z",
     "iopub.status.idle": "2023-04-15T05:47:16.453052Z",
     "shell.execute_reply": "2023-04-15T05:47:16.451496Z"
    },
    "papermill": {
     "duration": 0.019463,
     "end_time": "2023-04-15T05:47:16.455954",
     "exception": false,
     "start_time": "2023-04-15T05:47:16.436491",
     "status": "completed"
    },
    "tags": []
   },
   "outputs": [
    {
     "name": "stdout",
     "output_type": "stream",
     "text": [
      "C\n",
      "D\n"
     ]
    }
   ],
   "source": [
    "for feature in constant_columns:\n",
    "    print(feature)\n"
   ]
  },
  {
   "cell_type": "code",
   "execution_count": 10,
   "id": "7dc468da",
   "metadata": {
    "execution": {
     "iopub.execute_input": "2023-04-15T05:47:16.474171Z",
     "iopub.status.busy": "2023-04-15T05:47:16.473204Z",
     "iopub.status.idle": "2023-04-15T05:47:16.490648Z",
     "shell.execute_reply": "2023-04-15T05:47:16.488225Z"
    },
    "papermill": {
     "duration": 0.03003,
     "end_time": "2023-04-15T05:47:16.493772",
     "exception": false,
     "start_time": "2023-04-15T05:47:16.463742",
     "status": "completed"
    },
    "tags": []
   },
   "outputs": [
    {
     "data": {
      "text/html": [
       "<div>\n",
       "<style scoped>\n",
       "    .dataframe tbody tr th:only-of-type {\n",
       "        vertical-align: middle;\n",
       "    }\n",
       "\n",
       "    .dataframe tbody tr th {\n",
       "        vertical-align: top;\n",
       "    }\n",
       "\n",
       "    .dataframe thead th {\n",
       "        text-align: right;\n",
       "    }\n",
       "</style>\n",
       "<table border=\"1\" class=\"dataframe\">\n",
       "  <thead>\n",
       "    <tr style=\"text-align: right;\">\n",
       "      <th></th>\n",
       "      <th>A</th>\n",
       "      <th>B</th>\n",
       "    </tr>\n",
       "  </thead>\n",
       "  <tbody>\n",
       "    <tr>\n",
       "      <th>0</th>\n",
       "      <td>1</td>\n",
       "      <td>4</td>\n",
       "    </tr>\n",
       "    <tr>\n",
       "      <th>1</th>\n",
       "      <td>2</td>\n",
       "      <td>5</td>\n",
       "    </tr>\n",
       "    <tr>\n",
       "      <th>2</th>\n",
       "      <td>4</td>\n",
       "      <td>6</td>\n",
       "    </tr>\n",
       "    <tr>\n",
       "      <th>3</th>\n",
       "      <td>1</td>\n",
       "      <td>7</td>\n",
       "    </tr>\n",
       "    <tr>\n",
       "      <th>4</th>\n",
       "      <td>2</td>\n",
       "      <td>8</td>\n",
       "    </tr>\n",
       "    <tr>\n",
       "      <th>5</th>\n",
       "      <td>4</td>\n",
       "      <td>9</td>\n",
       "    </tr>\n",
       "  </tbody>\n",
       "</table>\n",
       "</div>"
      ],
      "text/plain": [
       "   A  B\n",
       "0  1  4\n",
       "1  2  5\n",
       "2  4  6\n",
       "3  1  7\n",
       "4  2  8\n",
       "5  4  9"
      ]
     },
     "execution_count": 10,
     "metadata": {},
     "output_type": "execute_result"
    }
   ],
   "source": [
    "data.drop(constant_columns, axis = 1)"
   ]
  },
  {
   "cell_type": "code",
   "execution_count": 11,
   "id": "305c543c",
   "metadata": {
    "execution": {
     "iopub.execute_input": "2023-04-15T05:47:16.511954Z",
     "iopub.status.busy": "2023-04-15T05:47:16.511424Z",
     "iopub.status.idle": "2023-04-15T05:47:16.518409Z",
     "shell.execute_reply": "2023-04-15T05:47:16.516764Z"
    },
    "papermill": {
     "duration": 0.020093,
     "end_time": "2023-04-15T05:47:16.521995",
     "exception": false,
     "start_time": "2023-04-15T05:47:16.501902",
     "status": "completed"
    },
    "tags": []
   },
   "outputs": [],
   "source": [
    "import pandas as pd\n",
    "from sklearn.feature_selection import VarianceThreshold"
   ]
  },
  {
   "cell_type": "code",
   "execution_count": 12,
   "id": "322e8887",
   "metadata": {
    "execution": {
     "iopub.execute_input": "2023-04-15T05:47:16.539662Z",
     "iopub.status.busy": "2023-04-15T05:47:16.539259Z",
     "iopub.status.idle": "2023-04-15T05:47:19.522326Z",
     "shell.execute_reply": "2023-04-15T05:47:19.520715Z"
    },
    "papermill": {
     "duration": 2.99555,
     "end_time": "2023-04-15T05:47:19.525277",
     "exception": false,
     "start_time": "2023-04-15T05:47:16.529727",
     "status": "completed"
    },
    "tags": []
   },
   "outputs": [],
   "source": [
    "df=pd.read_csv('/kaggle/input/train-dataset/train.csv',nrows=100000000)"
   ]
  },
  {
   "cell_type": "code",
   "execution_count": 13,
   "id": "68a8d4c6",
   "metadata": {
    "execution": {
     "iopub.execute_input": "2023-04-15T05:47:19.543571Z",
     "iopub.status.busy": "2023-04-15T05:47:19.542276Z",
     "iopub.status.idle": "2023-04-15T05:47:19.550753Z",
     "shell.execute_reply": "2023-04-15T05:47:19.549223Z"
    },
    "papermill": {
     "duration": 0.020722,
     "end_time": "2023-04-15T05:47:19.553901",
     "exception": false,
     "start_time": "2023-04-15T05:47:19.533179",
     "status": "completed"
    },
    "tags": []
   },
   "outputs": [
    {
     "data": {
      "text/plain": [
       "(76020, 371)"
      ]
     },
     "execution_count": 13,
     "metadata": {},
     "output_type": "execute_result"
    }
   ],
   "source": [
    "df.shape"
   ]
  },
  {
   "cell_type": "code",
   "execution_count": 14,
   "id": "b4171894",
   "metadata": {
    "execution": {
     "iopub.execute_input": "2023-04-15T05:47:19.571679Z",
     "iopub.status.busy": "2023-04-15T05:47:19.571273Z",
     "iopub.status.idle": "2023-04-15T05:47:19.604511Z",
     "shell.execute_reply": "2023-04-15T05:47:19.602941Z"
    },
    "papermill": {
     "duration": 0.04585,
     "end_time": "2023-04-15T05:47:19.607515",
     "exception": false,
     "start_time": "2023-04-15T05:47:19.561665",
     "status": "completed"
    },
    "tags": []
   },
   "outputs": [
    {
     "data": {
      "text/html": [
       "<div>\n",
       "<style scoped>\n",
       "    .dataframe tbody tr th:only-of-type {\n",
       "        vertical-align: middle;\n",
       "    }\n",
       "\n",
       "    .dataframe tbody tr th {\n",
       "        vertical-align: top;\n",
       "    }\n",
       "\n",
       "    .dataframe thead th {\n",
       "        text-align: right;\n",
       "    }\n",
       "</style>\n",
       "<table border=\"1\" class=\"dataframe\">\n",
       "  <thead>\n",
       "    <tr style=\"text-align: right;\">\n",
       "      <th></th>\n",
       "      <th>ID</th>\n",
       "      <th>var3</th>\n",
       "      <th>var15</th>\n",
       "      <th>imp_ent_var16_ult1</th>\n",
       "      <th>imp_op_var39_comer_ult1</th>\n",
       "      <th>imp_op_var39_comer_ult3</th>\n",
       "      <th>imp_op_var40_comer_ult1</th>\n",
       "      <th>imp_op_var40_comer_ult3</th>\n",
       "      <th>imp_op_var40_efect_ult1</th>\n",
       "      <th>imp_op_var40_efect_ult3</th>\n",
       "      <th>...</th>\n",
       "      <th>saldo_medio_var33_hace2</th>\n",
       "      <th>saldo_medio_var33_hace3</th>\n",
       "      <th>saldo_medio_var33_ult1</th>\n",
       "      <th>saldo_medio_var33_ult3</th>\n",
       "      <th>saldo_medio_var44_hace2</th>\n",
       "      <th>saldo_medio_var44_hace3</th>\n",
       "      <th>saldo_medio_var44_ult1</th>\n",
       "      <th>saldo_medio_var44_ult3</th>\n",
       "      <th>var38</th>\n",
       "      <th>TARGET</th>\n",
       "    </tr>\n",
       "  </thead>\n",
       "  <tbody>\n",
       "    <tr>\n",
       "      <th>0</th>\n",
       "      <td>1</td>\n",
       "      <td>2</td>\n",
       "      <td>23</td>\n",
       "      <td>0.0</td>\n",
       "      <td>0.0</td>\n",
       "      <td>0.0</td>\n",
       "      <td>0.0</td>\n",
       "      <td>0.0</td>\n",
       "      <td>0.0</td>\n",
       "      <td>0.0</td>\n",
       "      <td>...</td>\n",
       "      <td>0.0</td>\n",
       "      <td>0.0</td>\n",
       "      <td>0.0</td>\n",
       "      <td>0.0</td>\n",
       "      <td>0.0</td>\n",
       "      <td>0.0</td>\n",
       "      <td>0.0</td>\n",
       "      <td>0.0</td>\n",
       "      <td>39205.170000</td>\n",
       "      <td>0</td>\n",
       "    </tr>\n",
       "    <tr>\n",
       "      <th>1</th>\n",
       "      <td>3</td>\n",
       "      <td>2</td>\n",
       "      <td>34</td>\n",
       "      <td>0.0</td>\n",
       "      <td>0.0</td>\n",
       "      <td>0.0</td>\n",
       "      <td>0.0</td>\n",
       "      <td>0.0</td>\n",
       "      <td>0.0</td>\n",
       "      <td>0.0</td>\n",
       "      <td>...</td>\n",
       "      <td>0.0</td>\n",
       "      <td>0.0</td>\n",
       "      <td>0.0</td>\n",
       "      <td>0.0</td>\n",
       "      <td>0.0</td>\n",
       "      <td>0.0</td>\n",
       "      <td>0.0</td>\n",
       "      <td>0.0</td>\n",
       "      <td>49278.030000</td>\n",
       "      <td>0</td>\n",
       "    </tr>\n",
       "    <tr>\n",
       "      <th>2</th>\n",
       "      <td>4</td>\n",
       "      <td>2</td>\n",
       "      <td>23</td>\n",
       "      <td>0.0</td>\n",
       "      <td>0.0</td>\n",
       "      <td>0.0</td>\n",
       "      <td>0.0</td>\n",
       "      <td>0.0</td>\n",
       "      <td>0.0</td>\n",
       "      <td>0.0</td>\n",
       "      <td>...</td>\n",
       "      <td>0.0</td>\n",
       "      <td>0.0</td>\n",
       "      <td>0.0</td>\n",
       "      <td>0.0</td>\n",
       "      <td>0.0</td>\n",
       "      <td>0.0</td>\n",
       "      <td>0.0</td>\n",
       "      <td>0.0</td>\n",
       "      <td>67333.770000</td>\n",
       "      <td>0</td>\n",
       "    </tr>\n",
       "    <tr>\n",
       "      <th>3</th>\n",
       "      <td>8</td>\n",
       "      <td>2</td>\n",
       "      <td>37</td>\n",
       "      <td>0.0</td>\n",
       "      <td>195.0</td>\n",
       "      <td>195.0</td>\n",
       "      <td>0.0</td>\n",
       "      <td>0.0</td>\n",
       "      <td>0.0</td>\n",
       "      <td>0.0</td>\n",
       "      <td>...</td>\n",
       "      <td>0.0</td>\n",
       "      <td>0.0</td>\n",
       "      <td>0.0</td>\n",
       "      <td>0.0</td>\n",
       "      <td>0.0</td>\n",
       "      <td>0.0</td>\n",
       "      <td>0.0</td>\n",
       "      <td>0.0</td>\n",
       "      <td>64007.970000</td>\n",
       "      <td>0</td>\n",
       "    </tr>\n",
       "    <tr>\n",
       "      <th>4</th>\n",
       "      <td>10</td>\n",
       "      <td>2</td>\n",
       "      <td>39</td>\n",
       "      <td>0.0</td>\n",
       "      <td>0.0</td>\n",
       "      <td>0.0</td>\n",
       "      <td>0.0</td>\n",
       "      <td>0.0</td>\n",
       "      <td>0.0</td>\n",
       "      <td>0.0</td>\n",
       "      <td>...</td>\n",
       "      <td>0.0</td>\n",
       "      <td>0.0</td>\n",
       "      <td>0.0</td>\n",
       "      <td>0.0</td>\n",
       "      <td>0.0</td>\n",
       "      <td>0.0</td>\n",
       "      <td>0.0</td>\n",
       "      <td>0.0</td>\n",
       "      <td>117310.979016</td>\n",
       "      <td>0</td>\n",
       "    </tr>\n",
       "  </tbody>\n",
       "</table>\n",
       "<p>5 rows × 371 columns</p>\n",
       "</div>"
      ],
      "text/plain": [
       "   ID  var3  var15  imp_ent_var16_ult1  imp_op_var39_comer_ult1  \\\n",
       "0   1     2     23                 0.0                      0.0   \n",
       "1   3     2     34                 0.0                      0.0   \n",
       "2   4     2     23                 0.0                      0.0   \n",
       "3   8     2     37                 0.0                    195.0   \n",
       "4  10     2     39                 0.0                      0.0   \n",
       "\n",
       "   imp_op_var39_comer_ult3  imp_op_var40_comer_ult1  imp_op_var40_comer_ult3  \\\n",
       "0                      0.0                      0.0                      0.0   \n",
       "1                      0.0                      0.0                      0.0   \n",
       "2                      0.0                      0.0                      0.0   \n",
       "3                    195.0                      0.0                      0.0   \n",
       "4                      0.0                      0.0                      0.0   \n",
       "\n",
       "   imp_op_var40_efect_ult1  imp_op_var40_efect_ult3  ...  \\\n",
       "0                      0.0                      0.0  ...   \n",
       "1                      0.0                      0.0  ...   \n",
       "2                      0.0                      0.0  ...   \n",
       "3                      0.0                      0.0  ...   \n",
       "4                      0.0                      0.0  ...   \n",
       "\n",
       "   saldo_medio_var33_hace2  saldo_medio_var33_hace3  saldo_medio_var33_ult1  \\\n",
       "0                      0.0                      0.0                     0.0   \n",
       "1                      0.0                      0.0                     0.0   \n",
       "2                      0.0                      0.0                     0.0   \n",
       "3                      0.0                      0.0                     0.0   \n",
       "4                      0.0                      0.0                     0.0   \n",
       "\n",
       "   saldo_medio_var33_ult3  saldo_medio_var44_hace2  saldo_medio_var44_hace3  \\\n",
       "0                     0.0                      0.0                      0.0   \n",
       "1                     0.0                      0.0                      0.0   \n",
       "2                     0.0                      0.0                      0.0   \n",
       "3                     0.0                      0.0                      0.0   \n",
       "4                     0.0                      0.0                      0.0   \n",
       "\n",
       "   saldo_medio_var44_ult1  saldo_medio_var44_ult3          var38  TARGET  \n",
       "0                     0.0                     0.0   39205.170000       0  \n",
       "1                     0.0                     0.0   49278.030000       0  \n",
       "2                     0.0                     0.0   67333.770000       0  \n",
       "3                     0.0                     0.0   64007.970000       0  \n",
       "4                     0.0                     0.0  117310.979016       0  \n",
       "\n",
       "[5 rows x 371 columns]"
      ]
     },
     "execution_count": 14,
     "metadata": {},
     "output_type": "execute_result"
    }
   ],
   "source": [
    "df.head()"
   ]
  },
  {
   "cell_type": "code",
   "execution_count": 15,
   "id": "284747d6",
   "metadata": {
    "execution": {
     "iopub.execute_input": "2023-04-15T05:47:19.625807Z",
     "iopub.status.busy": "2023-04-15T05:47:19.625405Z",
     "iopub.status.idle": "2023-04-15T05:47:19.709845Z",
     "shell.execute_reply": "2023-04-15T05:47:19.708535Z"
    },
    "papermill": {
     "duration": 0.0986,
     "end_time": "2023-04-15T05:47:19.714236",
     "exception": false,
     "start_time": "2023-04-15T05:47:19.615636",
     "status": "completed"
    },
    "tags": []
   },
   "outputs": [],
   "source": [
    "X=df.drop(labels=['TARGET'], axis=1)\n",
    "y=df['TARGET']"
   ]
  },
  {
   "cell_type": "code",
   "execution_count": 16,
   "id": "92bb5514",
   "metadata": {
    "execution": {
     "iopub.execute_input": "2023-04-15T05:47:19.739220Z",
     "iopub.status.busy": "2023-04-15T05:47:19.738403Z",
     "iopub.status.idle": "2023-04-15T05:47:20.064877Z",
     "shell.execute_reply": "2023-04-15T05:47:20.063794Z"
    },
    "papermill": {
     "duration": 0.342701,
     "end_time": "2023-04-15T05:47:20.068499",
     "exception": false,
     "start_time": "2023-04-15T05:47:19.725798",
     "status": "completed"
    },
    "tags": []
   },
   "outputs": [
    {
     "data": {
      "text/plain": [
       "((53214, 370), (22806, 370))"
      ]
     },
     "execution_count": 16,
     "metadata": {},
     "output_type": "execute_result"
    }
   ],
   "source": [
    "from sklearn.model_selection import train_test_split\n",
    "# separate dataset into train and test\n",
    "X_train, X_test, y_train, y_test = train_test_split(\n",
    "    df.drop(labels=['TARGET'], axis=1),\n",
    "    df['TARGET'],\n",
    "    test_size=0.3,\n",
    "    random_state=0)\n",
    "\n",
    "X_train.shape, X_test.shape"
   ]
  },
  {
   "cell_type": "code",
   "execution_count": 17,
   "id": "68d1ffc7",
   "metadata": {
    "execution": {
     "iopub.execute_input": "2023-04-15T05:47:20.095544Z",
     "iopub.status.busy": "2023-04-15T05:47:20.093284Z",
     "iopub.status.idle": "2023-04-15T05:47:20.402323Z",
     "shell.execute_reply": "2023-04-15T05:47:20.401218Z"
    },
    "papermill": {
     "duration": 0.325264,
     "end_time": "2023-04-15T05:47:20.405427",
     "exception": false,
     "start_time": "2023-04-15T05:47:20.080163",
     "status": "completed"
    },
    "tags": []
   },
   "outputs": [
    {
     "data": {
      "text/plain": [
       "VarianceThreshold(threshold=0)"
      ]
     },
     "execution_count": 17,
     "metadata": {},
     "output_type": "execute_result"
    }
   ],
   "source": [
    "var_thres=VarianceThreshold(threshold=0)\n",
    "var_thres.fit(X_train)"
   ]
  },
  {
   "cell_type": "code",
   "execution_count": 18,
   "id": "a21f53cc",
   "metadata": {
    "execution": {
     "iopub.execute_input": "2023-04-15T05:47:20.430034Z",
     "iopub.status.busy": "2023-04-15T05:47:20.428957Z",
     "iopub.status.idle": "2023-04-15T05:47:20.439889Z",
     "shell.execute_reply": "2023-04-15T05:47:20.437879Z"
    },
    "papermill": {
     "duration": 0.025963,
     "end_time": "2023-04-15T05:47:20.442931",
     "exception": false,
     "start_time": "2023-04-15T05:47:20.416968",
     "status": "completed"
    },
    "tags": []
   },
   "outputs": [
    {
     "data": {
      "text/plain": [
       "array([ True,  True,  True,  True,  True,  True,  True,  True,  True,\n",
       "        True,  True,  True,  True,  True,  True,  True,  True,  True,\n",
       "        True,  True,  True,  True, False, False,  True,  True,  True,\n",
       "        True,  True,  True,  True,  True,  True,  True,  True,  True,\n",
       "        True,  True,  True,  True,  True,  True,  True,  True,  True,\n",
       "        True,  True,  True,  True,  True,  True,  True,  True,  True,\n",
       "        True,  True,  True, False, False, False, False,  True,  True,\n",
       "        True,  True,  True,  True,  True,  True,  True,  True,  True,\n",
       "        True,  True,  True,  True,  True,  True,  True,  True,  True,\n",
       "       False,  True,  True,  True, False, False,  True,  True,  True,\n",
       "        True,  True,  True,  True,  True,  True,  True,  True,  True,\n",
       "        True,  True,  True,  True,  True,  True,  True,  True,  True,\n",
       "        True,  True,  True,  True,  True,  True,  True,  True,  True,\n",
       "        True,  True,  True,  True,  True,  True,  True,  True,  True,\n",
       "        True,  True,  True,  True,  True,  True, False, False, False,\n",
       "       False,  True,  True,  True,  True,  True,  True,  True,  True,\n",
       "        True,  True,  True,  True,  True,  True,  True,  True,  True,\n",
       "        True,  True,  True, False,  True,  True,  True,  True,  True,\n",
       "       False, False,  True,  True,  True,  True,  True,  True,  True,\n",
       "        True,  True,  True,  True,  True,  True,  True,  True,  True,\n",
       "       False, False,  True,  True,  True,  True,  True,  True,  True,\n",
       "        True, False,  True,  True, False,  True,  True,  True,  True,\n",
       "        True,  True,  True,  True,  True, False,  True,  True,  True,\n",
       "        True,  True,  True,  True,  True,  True,  True,  True, False,\n",
       "        True,  True,  True,  True,  True, False,  True, False,  True,\n",
       "        True,  True,  True,  True,  True,  True,  True,  True,  True,\n",
       "        True, False,  True,  True,  True, False, False,  True,  True,\n",
       "        True,  True, False,  True,  True,  True, False,  True,  True,\n",
       "        True,  True,  True,  True,  True,  True,  True,  True,  True,\n",
       "        True, False, False,  True,  True,  True,  True,  True,  True,\n",
       "        True,  True,  True,  True,  True,  True,  True,  True,  True,\n",
       "        True,  True,  True,  True,  True,  True,  True,  True,  True,\n",
       "        True,  True,  True,  True,  True,  True,  True,  True,  True,\n",
       "        True,  True,  True,  True,  True,  True,  True, False,  True,\n",
       "        True,  True, False, False,  True,  True,  True,  True,  True,\n",
       "        True, False,  True,  True,  True, False,  True,  True,  True,\n",
       "        True,  True,  True,  True, False,  True,  True,  True,  True,\n",
       "        True,  True,  True,  True,  True,  True,  True,  True,  True,\n",
       "        True,  True,  True,  True,  True,  True,  True,  True, False,\n",
       "        True,  True,  True,  True,  True,  True,  True,  True,  True,\n",
       "        True,  True,  True,  True,  True,  True,  True,  True,  True,\n",
       "        True])"
      ]
     },
     "execution_count": 18,
     "metadata": {},
     "output_type": "execute_result"
    }
   ],
   "source": [
    "var_thres.get_support()"
   ]
  },
  {
   "cell_type": "code",
   "execution_count": 19,
   "id": "44a3f5ab",
   "metadata": {
    "execution": {
     "iopub.execute_input": "2023-04-15T05:47:20.464041Z",
     "iopub.status.busy": "2023-04-15T05:47:20.462973Z",
     "iopub.status.idle": "2023-04-15T05:47:20.474144Z",
     "shell.execute_reply": "2023-04-15T05:47:20.472758Z"
    },
    "papermill": {
     "duration": 0.025192,
     "end_time": "2023-04-15T05:47:20.476958",
     "exception": false,
     "start_time": "2023-04-15T05:47:20.451766",
     "status": "completed"
    },
    "tags": []
   },
   "outputs": [
    {
     "data": {
      "text/plain": [
       "332"
      ]
     },
     "execution_count": 19,
     "metadata": {},
     "output_type": "execute_result"
    }
   ],
   "source": [
    "### Finding non constant features\n",
    "sum(var_thres.get_support())"
   ]
  },
  {
   "cell_type": "code",
   "execution_count": 20,
   "id": "ede998b1",
   "metadata": {
    "execution": {
     "iopub.execute_input": "2023-04-15T05:47:20.499524Z",
     "iopub.status.busy": "2023-04-15T05:47:20.497283Z",
     "iopub.status.idle": "2023-04-15T05:47:20.509469Z",
     "shell.execute_reply": "2023-04-15T05:47:20.507824Z"
    },
    "papermill": {
     "duration": 0.026162,
     "end_time": "2023-04-15T05:47:20.512582",
     "exception": false,
     "start_time": "2023-04-15T05:47:20.486420",
     "status": "completed"
    },
    "tags": []
   },
   "outputs": [
    {
     "data": {
      "text/plain": [
       "332"
      ]
     },
     "execution_count": 20,
     "metadata": {},
     "output_type": "execute_result"
    }
   ],
   "source": [
    "# Lets Find non-constant features \n",
    "len(X_train.columns[var_thres.get_support()])"
   ]
  },
  {
   "cell_type": "code",
   "execution_count": 21,
   "id": "03cecf88",
   "metadata": {
    "execution": {
     "iopub.execute_input": "2023-04-15T05:47:20.533725Z",
     "iopub.status.busy": "2023-04-15T05:47:20.533174Z",
     "iopub.status.idle": "2023-04-15T05:47:20.568310Z",
     "shell.execute_reply": "2023-04-15T05:47:20.566231Z"
    },
    "papermill": {
     "duration": 0.049758,
     "end_time": "2023-04-15T05:47:20.571575",
     "exception": false,
     "start_time": "2023-04-15T05:47:20.521817",
     "status": "completed"
    },
    "tags": []
   },
   "outputs": [
    {
     "name": "stdout",
     "output_type": "stream",
     "text": [
      "38\n"
     ]
    }
   ],
   "source": [
    "constant_columns = [column for column in X_train.columns\n",
    "                    if column not in X_train.columns[var_thres.get_support()]]\n",
    "\n",
    "print(len(constant_columns))"
   ]
  },
  {
   "cell_type": "code",
   "execution_count": 22,
   "id": "3dc4398f",
   "metadata": {
    "execution": {
     "iopub.execute_input": "2023-04-15T05:47:20.597175Z",
     "iopub.status.busy": "2023-04-15T05:47:20.596424Z",
     "iopub.status.idle": "2023-04-15T05:47:20.610558Z",
     "shell.execute_reply": "2023-04-15T05:47:20.608811Z"
    },
    "papermill": {
     "duration": 0.031797,
     "end_time": "2023-04-15T05:47:20.615611",
     "exception": false,
     "start_time": "2023-04-15T05:47:20.583814",
     "status": "completed"
    },
    "tags": []
   },
   "outputs": [
    {
     "name": "stdout",
     "output_type": "stream",
     "text": [
      "ind_var2_0\n",
      "ind_var2\n",
      "ind_var27_0\n",
      "ind_var28_0\n",
      "ind_var28\n",
      "ind_var27\n",
      "ind_var41\n",
      "ind_var46_0\n",
      "ind_var46\n",
      "num_var27_0\n",
      "num_var28_0\n",
      "num_var28\n",
      "num_var27\n",
      "num_var41\n",
      "num_var46_0\n",
      "num_var46\n",
      "saldo_var28\n",
      "saldo_var27\n",
      "saldo_var41\n",
      "saldo_var46\n",
      "delta_imp_reemb_var33_1y3\n",
      "delta_num_reemb_var33_1y3\n",
      "imp_amort_var18_hace3\n",
      "imp_amort_var34_hace3\n",
      "imp_reemb_var13_hace3\n",
      "imp_reemb_var33_hace3\n",
      "imp_reemb_var33_ult1\n",
      "imp_trasp_var17_out_hace3\n",
      "imp_trasp_var33_out_hace3\n",
      "num_var2_0_ult1\n",
      "num_var2_ult1\n",
      "num_reemb_var13_hace3\n",
      "num_reemb_var33_hace3\n",
      "num_reemb_var33_ult1\n",
      "num_trasp_var17_out_hace3\n",
      "num_trasp_var33_out_hace3\n",
      "saldo_var2_ult1\n",
      "saldo_medio_var13_medio_hace3\n"
     ]
    }
   ],
   "source": [
    "for column in constant_columns:\n",
    "    print(column)\n",
    "    "
   ]
  },
  {
   "cell_type": "code",
   "execution_count": 23,
   "id": "958f8161",
   "metadata": {
    "execution": {
     "iopub.execute_input": "2023-04-15T05:47:20.638161Z",
     "iopub.status.busy": "2023-04-15T05:47:20.636785Z",
     "iopub.status.idle": "2023-04-15T05:47:20.729552Z",
     "shell.execute_reply": "2023-04-15T05:47:20.727941Z"
    },
    "papermill": {
     "duration": 0.107068,
     "end_time": "2023-04-15T05:47:20.732661",
     "exception": false,
     "start_time": "2023-04-15T05:47:20.625593",
     "status": "completed"
    },
    "tags": []
   },
   "outputs": [
    {
     "data": {
      "text/html": [
       "<div>\n",
       "<style scoped>\n",
       "    .dataframe tbody tr th:only-of-type {\n",
       "        vertical-align: middle;\n",
       "    }\n",
       "\n",
       "    .dataframe tbody tr th {\n",
       "        vertical-align: top;\n",
       "    }\n",
       "\n",
       "    .dataframe thead th {\n",
       "        text-align: right;\n",
       "    }\n",
       "</style>\n",
       "<table border=\"1\" class=\"dataframe\">\n",
       "  <thead>\n",
       "    <tr style=\"text-align: right;\">\n",
       "      <th></th>\n",
       "      <th>ID</th>\n",
       "      <th>var3</th>\n",
       "      <th>var15</th>\n",
       "      <th>imp_ent_var16_ult1</th>\n",
       "      <th>imp_op_var39_comer_ult1</th>\n",
       "      <th>imp_op_var39_comer_ult3</th>\n",
       "      <th>imp_op_var40_comer_ult1</th>\n",
       "      <th>imp_op_var40_comer_ult3</th>\n",
       "      <th>imp_op_var40_efect_ult1</th>\n",
       "      <th>imp_op_var40_efect_ult3</th>\n",
       "      <th>...</th>\n",
       "      <th>saldo_medio_var29_ult3</th>\n",
       "      <th>saldo_medio_var33_hace2</th>\n",
       "      <th>saldo_medio_var33_hace3</th>\n",
       "      <th>saldo_medio_var33_ult1</th>\n",
       "      <th>saldo_medio_var33_ult3</th>\n",
       "      <th>saldo_medio_var44_hace2</th>\n",
       "      <th>saldo_medio_var44_hace3</th>\n",
       "      <th>saldo_medio_var44_ult1</th>\n",
       "      <th>saldo_medio_var44_ult3</th>\n",
       "      <th>var38</th>\n",
       "    </tr>\n",
       "  </thead>\n",
       "  <tbody>\n",
       "    <tr>\n",
       "      <th>7526</th>\n",
       "      <td>15083</td>\n",
       "      <td>2</td>\n",
       "      <td>23</td>\n",
       "      <td>0.0</td>\n",
       "      <td>0.00</td>\n",
       "      <td>0.00</td>\n",
       "      <td>0.00</td>\n",
       "      <td>0.00</td>\n",
       "      <td>0.0</td>\n",
       "      <td>0.0</td>\n",
       "      <td>...</td>\n",
       "      <td>0.0</td>\n",
       "      <td>0.0</td>\n",
       "      <td>0.0</td>\n",
       "      <td>0.0</td>\n",
       "      <td>0.0</td>\n",
       "      <td>0.0</td>\n",
       "      <td>0.0</td>\n",
       "      <td>0.0</td>\n",
       "      <td>0.0</td>\n",
       "      <td>117310.979016</td>\n",
       "    </tr>\n",
       "    <tr>\n",
       "      <th>51929</th>\n",
       "      <td>103706</td>\n",
       "      <td>2</td>\n",
       "      <td>48</td>\n",
       "      <td>0.0</td>\n",
       "      <td>0.00</td>\n",
       "      <td>0.00</td>\n",
       "      <td>0.00</td>\n",
       "      <td>0.00</td>\n",
       "      <td>0.0</td>\n",
       "      <td>0.0</td>\n",
       "      <td>...</td>\n",
       "      <td>0.0</td>\n",
       "      <td>0.0</td>\n",
       "      <td>0.0</td>\n",
       "      <td>0.0</td>\n",
       "      <td>0.0</td>\n",
       "      <td>0.0</td>\n",
       "      <td>0.0</td>\n",
       "      <td>0.0</td>\n",
       "      <td>0.0</td>\n",
       "      <td>451931.220000</td>\n",
       "    </tr>\n",
       "    <tr>\n",
       "      <th>46677</th>\n",
       "      <td>93351</td>\n",
       "      <td>2</td>\n",
       "      <td>40</td>\n",
       "      <td>0.0</td>\n",
       "      <td>0.00</td>\n",
       "      <td>0.00</td>\n",
       "      <td>0.00</td>\n",
       "      <td>0.00</td>\n",
       "      <td>0.0</td>\n",
       "      <td>0.0</td>\n",
       "      <td>...</td>\n",
       "      <td>0.0</td>\n",
       "      <td>0.0</td>\n",
       "      <td>0.0</td>\n",
       "      <td>0.0</td>\n",
       "      <td>0.0</td>\n",
       "      <td>0.0</td>\n",
       "      <td>0.0</td>\n",
       "      <td>0.0</td>\n",
       "      <td>0.0</td>\n",
       "      <td>41225.670000</td>\n",
       "    </tr>\n",
       "    <tr>\n",
       "      <th>46194</th>\n",
       "      <td>92424</td>\n",
       "      <td>2</td>\n",
       "      <td>83</td>\n",
       "      <td>0.0</td>\n",
       "      <td>0.00</td>\n",
       "      <td>0.00</td>\n",
       "      <td>0.00</td>\n",
       "      <td>0.00</td>\n",
       "      <td>0.0</td>\n",
       "      <td>0.0</td>\n",
       "      <td>...</td>\n",
       "      <td>0.0</td>\n",
       "      <td>0.0</td>\n",
       "      <td>0.0</td>\n",
       "      <td>0.0</td>\n",
       "      <td>0.0</td>\n",
       "      <td>0.0</td>\n",
       "      <td>0.0</td>\n",
       "      <td>0.0</td>\n",
       "      <td>0.0</td>\n",
       "      <td>117310.979016</td>\n",
       "    </tr>\n",
       "    <tr>\n",
       "      <th>20190</th>\n",
       "      <td>40437</td>\n",
       "      <td>2</td>\n",
       "      <td>79</td>\n",
       "      <td>0.0</td>\n",
       "      <td>535.41</td>\n",
       "      <td>535.41</td>\n",
       "      <td>0.00</td>\n",
       "      <td>0.00</td>\n",
       "      <td>0.0</td>\n",
       "      <td>0.0</td>\n",
       "      <td>...</td>\n",
       "      <td>0.0</td>\n",
       "      <td>0.0</td>\n",
       "      <td>0.0</td>\n",
       "      <td>0.0</td>\n",
       "      <td>0.0</td>\n",
       "      <td>0.0</td>\n",
       "      <td>0.0</td>\n",
       "      <td>0.0</td>\n",
       "      <td>0.0</td>\n",
       "      <td>153477.690000</td>\n",
       "    </tr>\n",
       "    <tr>\n",
       "      <th>...</th>\n",
       "      <td>...</td>\n",
       "      <td>...</td>\n",
       "      <td>...</td>\n",
       "      <td>...</td>\n",
       "      <td>...</td>\n",
       "      <td>...</td>\n",
       "      <td>...</td>\n",
       "      <td>...</td>\n",
       "      <td>...</td>\n",
       "      <td>...</td>\n",
       "      <td>...</td>\n",
       "      <td>...</td>\n",
       "      <td>...</td>\n",
       "      <td>...</td>\n",
       "      <td>...</td>\n",
       "      <td>...</td>\n",
       "      <td>...</td>\n",
       "      <td>...</td>\n",
       "      <td>...</td>\n",
       "      <td>...</td>\n",
       "      <td>...</td>\n",
       "    </tr>\n",
       "    <tr>\n",
       "      <th>21243</th>\n",
       "      <td>42533</td>\n",
       "      <td>53</td>\n",
       "      <td>46</td>\n",
       "      <td>0.0</td>\n",
       "      <td>1770.48</td>\n",
       "      <td>2669.46</td>\n",
       "      <td>451.74</td>\n",
       "      <td>808.77</td>\n",
       "      <td>0.0</td>\n",
       "      <td>0.0</td>\n",
       "      <td>...</td>\n",
       "      <td>0.0</td>\n",
       "      <td>0.0</td>\n",
       "      <td>0.0</td>\n",
       "      <td>0.0</td>\n",
       "      <td>0.0</td>\n",
       "      <td>0.0</td>\n",
       "      <td>0.0</td>\n",
       "      <td>0.0</td>\n",
       "      <td>0.0</td>\n",
       "      <td>124242.570000</td>\n",
       "    </tr>\n",
       "    <tr>\n",
       "      <th>45891</th>\n",
       "      <td>91801</td>\n",
       "      <td>2</td>\n",
       "      <td>29</td>\n",
       "      <td>0.0</td>\n",
       "      <td>0.00</td>\n",
       "      <td>0.00</td>\n",
       "      <td>0.00</td>\n",
       "      <td>0.00</td>\n",
       "      <td>0.0</td>\n",
       "      <td>0.0</td>\n",
       "      <td>...</td>\n",
       "      <td>0.0</td>\n",
       "      <td>0.0</td>\n",
       "      <td>0.0</td>\n",
       "      <td>0.0</td>\n",
       "      <td>0.0</td>\n",
       "      <td>0.0</td>\n",
       "      <td>0.0</td>\n",
       "      <td>0.0</td>\n",
       "      <td>0.0</td>\n",
       "      <td>34968.270000</td>\n",
       "    </tr>\n",
       "    <tr>\n",
       "      <th>42613</th>\n",
       "      <td>85345</td>\n",
       "      <td>9</td>\n",
       "      <td>23</td>\n",
       "      <td>0.0</td>\n",
       "      <td>0.00</td>\n",
       "      <td>0.00</td>\n",
       "      <td>0.00</td>\n",
       "      <td>0.00</td>\n",
       "      <td>0.0</td>\n",
       "      <td>0.0</td>\n",
       "      <td>...</td>\n",
       "      <td>0.0</td>\n",
       "      <td>0.0</td>\n",
       "      <td>0.0</td>\n",
       "      <td>0.0</td>\n",
       "      <td>0.0</td>\n",
       "      <td>0.0</td>\n",
       "      <td>0.0</td>\n",
       "      <td>0.0</td>\n",
       "      <td>0.0</td>\n",
       "      <td>69090.870000</td>\n",
       "    </tr>\n",
       "    <tr>\n",
       "      <th>43567</th>\n",
       "      <td>87270</td>\n",
       "      <td>2</td>\n",
       "      <td>30</td>\n",
       "      <td>60.0</td>\n",
       "      <td>72.48</td>\n",
       "      <td>95.64</td>\n",
       "      <td>0.00</td>\n",
       "      <td>0.00</td>\n",
       "      <td>0.0</td>\n",
       "      <td>0.0</td>\n",
       "      <td>...</td>\n",
       "      <td>0.0</td>\n",
       "      <td>0.0</td>\n",
       "      <td>0.0</td>\n",
       "      <td>0.0</td>\n",
       "      <td>0.0</td>\n",
       "      <td>0.0</td>\n",
       "      <td>0.0</td>\n",
       "      <td>0.0</td>\n",
       "      <td>0.0</td>\n",
       "      <td>66354.510000</td>\n",
       "    </tr>\n",
       "    <tr>\n",
       "      <th>68268</th>\n",
       "      <td>136296</td>\n",
       "      <td>2</td>\n",
       "      <td>55</td>\n",
       "      <td>0.0</td>\n",
       "      <td>0.00</td>\n",
       "      <td>0.00</td>\n",
       "      <td>0.00</td>\n",
       "      <td>0.00</td>\n",
       "      <td>0.0</td>\n",
       "      <td>0.0</td>\n",
       "      <td>...</td>\n",
       "      <td>0.0</td>\n",
       "      <td>0.0</td>\n",
       "      <td>0.0</td>\n",
       "      <td>0.0</td>\n",
       "      <td>0.0</td>\n",
       "      <td>0.0</td>\n",
       "      <td>0.0</td>\n",
       "      <td>0.0</td>\n",
       "      <td>0.0</td>\n",
       "      <td>75958.920000</td>\n",
       "    </tr>\n",
       "  </tbody>\n",
       "</table>\n",
       "<p>53214 rows × 332 columns</p>\n",
       "</div>"
      ],
      "text/plain": [
       "           ID  var3  var15  imp_ent_var16_ult1  imp_op_var39_comer_ult1  \\\n",
       "7526    15083     2     23                 0.0                     0.00   \n",
       "51929  103706     2     48                 0.0                     0.00   \n",
       "46677   93351     2     40                 0.0                     0.00   \n",
       "46194   92424     2     83                 0.0                     0.00   \n",
       "20190   40437     2     79                 0.0                   535.41   \n",
       "...       ...   ...    ...                 ...                      ...   \n",
       "21243   42533    53     46                 0.0                  1770.48   \n",
       "45891   91801     2     29                 0.0                     0.00   \n",
       "42613   85345     9     23                 0.0                     0.00   \n",
       "43567   87270     2     30                60.0                    72.48   \n",
       "68268  136296     2     55                 0.0                     0.00   \n",
       "\n",
       "       imp_op_var39_comer_ult3  imp_op_var40_comer_ult1  \\\n",
       "7526                      0.00                     0.00   \n",
       "51929                     0.00                     0.00   \n",
       "46677                     0.00                     0.00   \n",
       "46194                     0.00                     0.00   \n",
       "20190                   535.41                     0.00   \n",
       "...                        ...                      ...   \n",
       "21243                  2669.46                   451.74   \n",
       "45891                     0.00                     0.00   \n",
       "42613                     0.00                     0.00   \n",
       "43567                    95.64                     0.00   \n",
       "68268                     0.00                     0.00   \n",
       "\n",
       "       imp_op_var40_comer_ult3  imp_op_var40_efect_ult1  \\\n",
       "7526                      0.00                      0.0   \n",
       "51929                     0.00                      0.0   \n",
       "46677                     0.00                      0.0   \n",
       "46194                     0.00                      0.0   \n",
       "20190                     0.00                      0.0   \n",
       "...                        ...                      ...   \n",
       "21243                   808.77                      0.0   \n",
       "45891                     0.00                      0.0   \n",
       "42613                     0.00                      0.0   \n",
       "43567                     0.00                      0.0   \n",
       "68268                     0.00                      0.0   \n",
       "\n",
       "       imp_op_var40_efect_ult3  ...  saldo_medio_var29_ult3  \\\n",
       "7526                       0.0  ...                     0.0   \n",
       "51929                      0.0  ...                     0.0   \n",
       "46677                      0.0  ...                     0.0   \n",
       "46194                      0.0  ...                     0.0   \n",
       "20190                      0.0  ...                     0.0   \n",
       "...                        ...  ...                     ...   \n",
       "21243                      0.0  ...                     0.0   \n",
       "45891                      0.0  ...                     0.0   \n",
       "42613                      0.0  ...                     0.0   \n",
       "43567                      0.0  ...                     0.0   \n",
       "68268                      0.0  ...                     0.0   \n",
       "\n",
       "       saldo_medio_var33_hace2  saldo_medio_var33_hace3  \\\n",
       "7526                       0.0                      0.0   \n",
       "51929                      0.0                      0.0   \n",
       "46677                      0.0                      0.0   \n",
       "46194                      0.0                      0.0   \n",
       "20190                      0.0                      0.0   \n",
       "...                        ...                      ...   \n",
       "21243                      0.0                      0.0   \n",
       "45891                      0.0                      0.0   \n",
       "42613                      0.0                      0.0   \n",
       "43567                      0.0                      0.0   \n",
       "68268                      0.0                      0.0   \n",
       "\n",
       "       saldo_medio_var33_ult1  saldo_medio_var33_ult3  \\\n",
       "7526                      0.0                     0.0   \n",
       "51929                     0.0                     0.0   \n",
       "46677                     0.0                     0.0   \n",
       "46194                     0.0                     0.0   \n",
       "20190                     0.0                     0.0   \n",
       "...                       ...                     ...   \n",
       "21243                     0.0                     0.0   \n",
       "45891                     0.0                     0.0   \n",
       "42613                     0.0                     0.0   \n",
       "43567                     0.0                     0.0   \n",
       "68268                     0.0                     0.0   \n",
       "\n",
       "       saldo_medio_var44_hace2  saldo_medio_var44_hace3  \\\n",
       "7526                       0.0                      0.0   \n",
       "51929                      0.0                      0.0   \n",
       "46677                      0.0                      0.0   \n",
       "46194                      0.0                      0.0   \n",
       "20190                      0.0                      0.0   \n",
       "...                        ...                      ...   \n",
       "21243                      0.0                      0.0   \n",
       "45891                      0.0                      0.0   \n",
       "42613                      0.0                      0.0   \n",
       "43567                      0.0                      0.0   \n",
       "68268                      0.0                      0.0   \n",
       "\n",
       "       saldo_medio_var44_ult1  saldo_medio_var44_ult3          var38  \n",
       "7526                      0.0                     0.0  117310.979016  \n",
       "51929                     0.0                     0.0  451931.220000  \n",
       "46677                     0.0                     0.0   41225.670000  \n",
       "46194                     0.0                     0.0  117310.979016  \n",
       "20190                     0.0                     0.0  153477.690000  \n",
       "...                       ...                     ...            ...  \n",
       "21243                     0.0                     0.0  124242.570000  \n",
       "45891                     0.0                     0.0   34968.270000  \n",
       "42613                     0.0                     0.0   69090.870000  \n",
       "43567                     0.0                     0.0   66354.510000  \n",
       "68268                     0.0                     0.0   75958.920000  \n",
       "\n",
       "[53214 rows x 332 columns]"
      ]
     },
     "execution_count": 23,
     "metadata": {},
     "output_type": "execute_result"
    }
   ],
   "source": [
    "X_train.drop(constant_columns,axis=1)"
   ]
  },
  {
   "cell_type": "code",
   "execution_count": null,
   "id": "199e3bb0",
   "metadata": {
    "papermill": {
     "duration": 0.009086,
     "end_time": "2023-04-15T05:47:20.751173",
     "exception": false,
     "start_time": "2023-04-15T05:47:20.742087",
     "status": "completed"
    },
    "tags": []
   },
   "outputs": [],
   "source": []
  },
  {
   "cell_type": "code",
   "execution_count": null,
   "id": "0fbdc58f",
   "metadata": {
    "papermill": {
     "duration": 0.009561,
     "end_time": "2023-04-15T05:47:20.770458",
     "exception": false,
     "start_time": "2023-04-15T05:47:20.760897",
     "status": "completed"
    },
    "tags": []
   },
   "outputs": [],
   "source": []
  },
  {
   "cell_type": "code",
   "execution_count": null,
   "id": "a4ea32db",
   "metadata": {
    "papermill": {
     "duration": 0.009653,
     "end_time": "2023-04-15T05:47:20.789748",
     "exception": false,
     "start_time": "2023-04-15T05:47:20.780095",
     "status": "completed"
    },
    "tags": []
   },
   "outputs": [],
   "source": []
  }
 ],
 "metadata": {
  "kernelspec": {
   "display_name": "Python 3",
   "language": "python",
   "name": "python3"
  },
  "language_info": {
   "codemirror_mode": {
    "name": "ipython",
    "version": 3
   },
   "file_extension": ".py",
   "mimetype": "text/x-python",
   "name": "python",
   "nbconvert_exporter": "python",
   "pygments_lexer": "ipython3",
   "version": "3.7.12"
  },
  "papermill": {
   "default_parameters": {},
   "duration": 19.138368,
   "end_time": "2023-04-15T05:47:21.623332",
   "environment_variables": {},
   "exception": null,
   "input_path": "__notebook__.ipynb",
   "output_path": "__notebook__.ipynb",
   "parameters": {},
   "start_time": "2023-04-15T05:47:02.484964",
   "version": "2.4.0"
  }
 },
 "nbformat": 4,
 "nbformat_minor": 5
}
